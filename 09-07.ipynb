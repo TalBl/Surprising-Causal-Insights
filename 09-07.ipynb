{
 "cells": [
  {
   "cell_type": "code",
   "execution_count": 34,
   "id": "1a88dcba",
   "metadata": {},
   "outputs": [
    {
     "name": "stderr",
     "output_type": "stream",
     "text": [
      "c:\\users\\talbl\\ideaprojects\\ex3\\venv\\lib\\site-packages\\pandas\\core\\arraylike.py:399: RuntimeWarning: divide by zero encountered in log\n",
      "  result = getattr(ufunc, method)(*inputs, **kwargs)\n",
      "c:\\users\\talbl\\ideaprojects\\ex3\\venv\\lib\\site-packages\\pandas\\core\\arraylike.py:399: RuntimeWarning: invalid value encountered in log\n",
      "  result = getattr(ufunc, method)(*inputs, **kwargs)\n"
     ]
    }
   ],
   "source": [
    "import pandas as pd\n",
    "import matplotlib.pyplot as plt\n",
    "import numpy as np\n",
    "import seaborn as sns\n",
    "pd.set_option('display.max_colwidth', None)  # or 199\n",
    "\n",
    "df_facts = pd.read_csv(\"outputs/acs/all_facts.csv\").dropna()\n",
    "df_data = pd.read_csv(\"data/acs/acstest.csv\")\n",
    "df_data['log_income'] = np.log(df_data[\"Total person's income\"])\n",
    "colors = ['b','g']"
   ]
  },
  {
   "cell_type": "markdown",
   "id": "e1cf90f9",
   "metadata": {},
   "source": [
    "# Introduction\n",
    "Our current problem is the current algorithm is *very* slow even where the subpopulations are in size=1. Becuase we look for over each possible combination of (subpopulation, treatment).\n",
    "\n",
    "In our last meeting we disscussed about finding the sub-populations with the biggest difference between the subpopulation's outcome to the protected subpopulation's income. With that hopefully we get good results in better runtime.\n",
    "\n",
    "We decided on 2 approaches:\n",
    "1. With different metrics (preferbly does not depend on treatment) find with the extremes values whose hopefully will point on the intresting subpopulations. For distributions comparison I used: KL, EMD and difference in income means\n",
    "\n",
    "2. with divexplorer: they used apriori algorithm and find the frequent itemsets that have the highest f. In the original way f=f(I)-f(D). where I is specific itemset and D is the score over all the dataset. I changed 2 things in the original implemantion: I used the f=average of income + I changed the comparison instead of looking all the dataset, I defined to compare between itemset's income to protected itemset's income => f = f(I) - f(Protected x I)"
   ]
  },
  {
   "cell_type": "markdown",
   "id": "2d836d67",
   "metadata": {},
   "source": [
    "# by ni_score"
   ]
  },
  {
   "cell_type": "code",
   "execution_count": 35,
   "id": "1bb7ac2b",
   "metadata": {},
   "outputs": [
    {
     "data": {
      "text/html": [
       "<div>\n",
       "<style scoped>\n",
       "    .dataframe tbody tr th:only-of-type {\n",
       "        vertical-align: middle;\n",
       "    }\n",
       "\n",
       "    .dataframe tbody tr th {\n",
       "        vertical-align: top;\n",
       "    }\n",
       "\n",
       "    .dataframe thead th {\n",
       "        text-align: right;\n",
       "    }\n",
       "</style>\n",
       "<table border=\"1\" class=\"dataframe\">\n",
       "  <thead>\n",
       "    <tr style=\"text-align: right;\">\n",
       "      <th></th>\n",
       "      <th>subpopulation</th>\n",
       "      <th>value_population</th>\n",
       "      <th>treatment</th>\n",
       "      <th>value</th>\n",
       "      <th>outcome</th>\n",
       "      <th>ate</th>\n",
       "      <th>ate_p</th>\n",
       "      <th>iscore</th>\n",
       "      <th>size</th>\n",
       "      <th>size_protected</th>\n",
       "      <th>size_treated</th>\n",
       "      <th>support</th>\n",
       "      <th>ni_score</th>\n",
       "      <th>p_v1</th>\n",
       "      <th>p_v2</th>\n",
       "      <th>utility</th>\n",
       "      <th>std</th>\n",
       "      <th>kl</th>\n",
       "      <th>emd</th>\n",
       "      <th>diff_means</th>\n",
       "    </tr>\n",
       "  </thead>\n",
       "  <tbody>\n",
       "    <tr>\n",
       "      <th>915</th>\n",
       "      <td>Race/Ethnicity</td>\n",
       "      <td>American Indian or Alaska Native</td>\n",
       "      <td>Educational attainment</td>\n",
       "      <td>Professional Degree</td>\n",
       "      <td>Total person's income</td>\n",
       "      <td>119000.5943</td>\n",
       "      <td>60340.5303</td>\n",
       "      <td>58660.06404</td>\n",
       "      <td>3404</td>\n",
       "      <td>1720</td>\n",
       "      <td>12</td>\n",
       "      <td>0.009026</td>\n",
       "      <td>0.994905</td>\n",
       "      <td>[3.74585936e-28]</td>\n",
       "      <td>[7.12602833e-05]</td>\n",
       "      <td>0.00898</td>\n",
       "      <td>37722.61761</td>\n",
       "      <td>53797156.49</td>\n",
       "      <td>5131.240698</td>\n",
       "      <td>4750.868605</td>\n",
       "    </tr>\n",
       "  </tbody>\n",
       "</table>\n",
       "</div>"
      ],
      "text/plain": [
       "      subpopulation                  value_population               treatment  \\\n",
       "915  Race/Ethnicity  American Indian or Alaska Native  Educational attainment   \n",
       "\n",
       "                   value                outcome          ate       ate_p  \\\n",
       "915  Professional Degree  Total person's income  119000.5943  60340.5303   \n",
       "\n",
       "          iscore  size  size_protected  size_treated   support  ni_score  \\\n",
       "915  58660.06404  3404            1720            12  0.009026  0.994905   \n",
       "\n",
       "                 p_v1              p_v2  utility          std           kl  \\\n",
       "915  [3.74585936e-28]  [7.12602833e-05]  0.00898  37722.61761  53797156.49   \n",
       "\n",
       "             emd   diff_means  \n",
       "915  5131.240698  4750.868605  "
      ]
     },
     "execution_count": 35,
     "metadata": {},
     "output_type": "execute_result"
    }
   ],
   "source": [
    "df_facts.query('ni_score == ni_score.max()')"
   ]
  },
  {
   "cell_type": "code",
   "execution_count": 36,
   "id": "e0b615a5",
   "metadata": {},
   "outputs": [
    {
     "data": {
      "image/png": "[encoded data removed]",
      "text/plain": [
       "<Figure size 432x288 with 1 Axes>"
      ]
     },
     "metadata": {
      "needs_background": "light"
     },
     "output_type": "display_data"
    }
   ],
   "source": [
    "fig, ax1 = plt.subplots()\n",
    "df_filtered = df_data.loc[df_data[\"Race/Ethnicity\"]==\"American Indian or Alaska Native\"]\n",
    "df_protected = df_filtered.loc[df_filtered[\"Sex\"]==\"Woman\"]\n",
    "df_unprotected = df_filtered.loc[df_filtered[\"Sex\"]==\"Man\"]\n",
    "\n",
    "ax1.hist([df_unprotected[\"Total person's income\"],df_protected[\"Total person's income\"]],color=colors, label=['unprotected', 'protected'], log=True)\n",
    "ax1.set_ylabel(\"Count (log scale)\")\n",
    "plt.tight_layout()\n",
    "plt.legend(loc='upper right')\n",
    "plt.show()"
   ]
  },
  {
   "cell_type": "markdown",
   "id": "77f4876f",
   "metadata": {},
   "source": [
    "Here I got the subpopulation with the maximum ni_score value is: Race=American Indian or Alaska Native. I separate between the protected and unprotected groups in that subpopulation and calced the histogram of those 2 sets' income."
   ]
  },
  {
   "cell_type": "code",
   "execution_count": 37,
   "id": "4009617d",
   "metadata": {},
   "outputs": [
    {
     "data": {
      "image/png": "[encoded data removed]",
      "text/plain": [
       "<Figure size 432x288 with 1 Axes>"
      ]
     },
     "metadata": {
      "needs_background": "light"
     },
     "output_type": "display_data"
    }
   ],
   "source": [
    "# import matplotlib.pyplot as plt\n",
    "\n",
    "\n",
    "# # Filter the datahttp://localhost:8888/notebooks/09-07.ipynb#\n",
    "df_filtered = df_data.loc[df_data[\"Race/Ethnicity\"] == \"American Indian or Alaska Native\"]\n",
    "df_protected = df_filtered.loc[df_filtered[\"Sex\"] == \"Woman\"]\n",
    "df_unprotected = df_filtered.loc[df_filtered[\"Sex\"] == \"Man\"]\n",
    "\n",
    "# # Convert to numpy arrays\n",
    "income_unprotected = df_unprotected[\"Total person's income\"]\n",
    "income_protected = df_protected[\"Total person's income\"]\n",
    "\n",
    "fig, ax = plt.subplots()\n",
    "sns.kdeplot(data=income_unprotected.squeeze(), ax=ax, color='red', fill=True, label='income_unprotected')\n",
    "sns.kdeplot(data=income_protected.squeeze(), ax=ax, color='blue', fill=True, label='income_protected')\n",
    "ax.legend(bbox_to_anchor=(1.02, 1.02), loc='upper left')\n",
    "plt.tight_layout()\n",
    "plt.show()\n"
   ]
  },
  {
   "cell_type": "markdown",
   "id": "13454829",
   "metadata": {},
   "source": [
    "Here is the same calced with subpopulation with minimum ni_score"
   ]
  },
  {
   "cell_type": "code",
   "execution_count": 38,
   "id": "c5e6d16e",
   "metadata": {},
   "outputs": [
    {
     "data": {
      "text/html": [
       "<div>\n",
       "<style scoped>\n",
       "    .dataframe tbody tr th:only-of-type {\n",
       "        vertical-align: middle;\n",
       "    }\n",
       "\n",
       "    .dataframe tbody tr th {\n",
       "        vertical-align: top;\n",
       "    }\n",
       "\n",
       "    .dataframe thead th {\n",
       "        text-align: right;\n",
       "    }\n",
       "</style>\n",
       "<table border=\"1\" class=\"dataframe\">\n",
       "  <thead>\n",
       "    <tr style=\"text-align: right;\">\n",
       "      <th></th>\n",
       "      <th>subpopulation</th>\n",
       "      <th>value_population</th>\n",
       "      <th>treatment</th>\n",
       "      <th>value</th>\n",
       "      <th>outcome</th>\n",
       "      <th>ate</th>\n",
       "      <th>ate_p</th>\n",
       "      <th>iscore</th>\n",
       "      <th>size</th>\n",
       "      <th>size_protected</th>\n",
       "      <th>size_treated</th>\n",
       "      <th>support</th>\n",
       "      <th>ni_score</th>\n",
       "      <th>p_v1</th>\n",
       "      <th>p_v2</th>\n",
       "      <th>utility</th>\n",
       "      <th>std</th>\n",
       "      <th>kl</th>\n",
       "      <th>emd</th>\n",
       "      <th>diff_means</th>\n",
       "    </tr>\n",
       "  </thead>\n",
       "  <tbody>\n",
       "    <tr>\n",
       "      <th>127</th>\n",
       "      <td>Age</td>\n",
       "      <td>17-24</td>\n",
       "      <td>Educational attainment</td>\n",
       "      <td>Master's degree</td>\n",
       "      <td>Total person's income</td>\n",
       "      <td>16142.13608</td>\n",
       "      <td>16132.32186</td>\n",
       "      <td>9.814223</td>\n",
       "      <td>48066</td>\n",
       "      <td>23683</td>\n",
       "      <td>385</td>\n",
       "      <td>0.127445</td>\n",
       "      <td>0.000883</td>\n",
       "      <td>[1.44808343e-64]</td>\n",
       "      <td>[3.67342386e-51]</td>\n",
       "      <td>0.000113</td>\n",
       "      <td>18620.26888</td>\n",
       "      <td>393058723.2</td>\n",
       "      <td>1606.166913</td>\n",
       "      <td>1556.475067</td>\n",
       "    </tr>\n",
       "  </tbody>\n",
       "</table>\n",
       "</div>"
      ],
      "text/plain": [
       "    subpopulation value_population               treatment            value  \\\n",
       "127           Age            17-24  Educational attainment  Master's degree   \n",
       "\n",
       "                   outcome          ate        ate_p    iscore   size  \\\n",
       "127  Total person's income  16142.13608  16132.32186  9.814223  48066   \n",
       "\n",
       "     size_protected  size_treated   support  ni_score              p_v1  \\\n",
       "127           23683           385  0.127445  0.000883  [1.44808343e-64]   \n",
       "\n",
       "                 p_v2   utility          std           kl          emd  \\\n",
       "127  [3.67342386e-51]  0.000113  18620.26888  393058723.2  1606.166913   \n",
       "\n",
       "      diff_means  \n",
       "127  1556.475067  "
      ]
     },
     "execution_count": 38,
     "metadata": {},
     "output_type": "execute_result"
    }
   ],
   "source": [
    "df_facts.query('ni_score == ni_score.min()')"
   ]
  },
  {
   "cell_type": "code",
   "execution_count": 39,
   "id": "266bda92",
   "metadata": {},
   "outputs": [
    {
     "data": {
      "image/png": "[encoded data removed]",
      "text/plain": [
       "<Figure size 432x288 with 1 Axes>"
      ]
     },
     "metadata": {
      "needs_background": "light"
     },
     "output_type": "display_data"
    }
   ],
   "source": [
    "fig, ax1 = plt.subplots()\n",
    "df_filtered = df_data.loc[df_data[\"Age\"]==\"17-24\"]\n",
    "df_protected = df_filtered.loc[df_filtered[\"Sex\"]==\"Woman\"]\n",
    "df_unprotected = df_filtered.loc[df_filtered[\"Sex\"]==\"Man\"]\n",
    "\n",
    "ax1.hist([df_unprotected[\"Total person's income\"],df_protected[\"Total person's income\"]],color=colors, label=['unprotected', 'protected'], log=True)\n",
    "ax1.set_ylabel(\"Count (log scale)\")\n",
    "plt.tight_layout()\n",
    "plt.legend(loc='upper right')\n",
    "plt.show()"
   ]
  },
  {
   "cell_type": "code",
   "execution_count": 40,
   "id": "c93910b7",
   "metadata": {},
   "outputs": [
    {
     "data": {
      "image/png": "[encoded data removed]",
      "text/plain": [
       "<Figure size 432x288 with 1 Axes>"
      ]
     },
     "metadata": {
      "needs_background": "light"
     },
     "output_type": "display_data"
    }
   ],
   "source": [
    "df_protected = df_filtered.loc[df_filtered[\"Sex\"] == \"Woman\"]\n",
    "df_unprotected = df_filtered.loc[df_filtered[\"Sex\"] == \"Man\"]\n",
    "\n",
    "# # Convert to numpy arrays\n",
    "income_unprotected = df_unprotected[\"Total person's income\"]\n",
    "income_protected = df_protected[\"Total person's income\"]\n",
    "\n",
    "fig, ax = plt.subplots()\n",
    "sns.kdeplot(data=income_unprotected.squeeze(), ax=ax, color='red', fill=True, label='income_unprotected')\n",
    "sns.kdeplot(data=income_protected.squeeze(), ax=ax, color='blue', fill=True, label='income_protected')\n",
    "ax.legend(bbox_to_anchor=(1.02, 1.02), loc='upper left')\n",
    "plt.tight_layout()\n",
    "plt.show()"
   ]
  },
  {
   "cell_type": "markdown",
   "id": "046bfd3a",
   "metadata": {},
   "source": [
    "# by utility"
   ]
  },
  {
   "cell_type": "code",
   "execution_count": 9,
   "id": "7fe55d32",
   "metadata": {},
   "outputs": [
    {
     "data": {
      "text/html": [
       "<div>\n",
       "<style scoped>\n",
       "    .dataframe tbody tr th:only-of-type {\n",
       "        vertical-align: middle;\n",
       "    }\n",
       "\n",
       "    .dataframe tbody tr th {\n",
       "        vertical-align: top;\n",
       "    }\n",
       "\n",
       "    .dataframe thead th {\n",
       "        text-align: right;\n",
       "    }\n",
       "</style>\n",
       "<table border=\"1\" class=\"dataframe\">\n",
       "  <thead>\n",
       "    <tr style=\"text-align: right;\">\n",
       "      <th></th>\n",
       "      <th>subpopulation</th>\n",
       "      <th>value_population</th>\n",
       "      <th>treatment</th>\n",
       "      <th>value</th>\n",
       "      <th>outcome</th>\n",
       "      <th>ate</th>\n",
       "      <th>ate_p</th>\n",
       "      <th>iscore</th>\n",
       "      <th>size</th>\n",
       "      <th>size_protected</th>\n",
       "      <th>size_treated</th>\n",
       "      <th>support</th>\n",
       "      <th>ni_score</th>\n",
       "      <th>p_v1</th>\n",
       "      <th>p_v2</th>\n",
       "      <th>utility</th>\n",
       "      <th>std</th>\n",
       "      <th>kl</th>\n",
       "      <th>emd</th>\n",
       "      <th>diff_means</th>\n",
       "    </tr>\n",
       "  </thead>\n",
       "  <tbody>\n",
       "    <tr>\n",
       "      <th>769</th>\n",
       "      <td>With a disability</td>\n",
       "      <td>no</td>\n",
       "      <td>Educational attainment</td>\n",
       "      <td>Professional Degree</td>\n",
       "      <td>Total person's income</td>\n",
       "      <td>95552.95982</td>\n",
       "      <td>71307.57713</td>\n",
       "      <td>24245.38269</td>\n",
       "      <td>343672</td>\n",
       "      <td>168791</td>\n",
       "      <td>8428</td>\n",
       "      <td>0.911234</td>\n",
       "      <td>0.887194</td>\n",
       "      <td>[0.]</td>\n",
       "      <td>[0.]</td>\n",
       "      <td>0.808441</td>\n",
       "      <td>64536.09246</td>\n",
       "      <td>1.045705e+10</td>\n",
       "      <td>11127.96578</td>\n",
       "      <td>11126.39916</td>\n",
       "    </tr>\n",
       "  </tbody>\n",
       "</table>\n",
       "</div>"
      ],
      "text/plain": [
       "         subpopulation value_population               treatment  \\\n",
       "769  With a disability               no  Educational attainment   \n",
       "\n",
       "                   value                outcome          ate        ate_p  \\\n",
       "769  Professional Degree  Total person's income  95552.95982  71307.57713   \n",
       "\n",
       "          iscore    size  size_protected  size_treated   support  ni_score  \\\n",
       "769  24245.38269  343672          168791          8428  0.911234  0.887194   \n",
       "\n",
       "     p_v1  p_v2   utility          std            kl          emd   diff_means  \n",
       "769  [0.]  [0.]  0.808441  64536.09246  1.045705e+10  11127.96578  11126.39916  "
      ]
     },
     "execution_count": 9,
     "metadata": {},
     "output_type": "execute_result"
    }
   ],
   "source": [
    "df_facts.query('utility == utility.max()')"
   ]
  },
  {
   "cell_type": "code",
   "execution_count": 10,
   "id": "d8d0b52c",
   "metadata": {},
   "outputs": [
    {
     "data": {
      "image/png": "[encoded data removed]",
      "text/plain": [
       "<Figure size 432x288 with 1 Axes>"
      ]
     },
     "metadata": {
      "needs_background": "light"
     },
     "output_type": "display_data"
    }
   ],
   "source": [
    "fig, ax1 = plt.subplots()\n",
    "df_filtered = df_data.loc[df_data[\"With a disability\"]==\"no\"]\n",
    "df_protected = df_filtered.loc[df_filtered[\"Sex\"]==\"Woman\"]\n",
    "df_unprotected = df_filtered.loc[df_filtered[\"Sex\"]==\"Man\"]\n",
    "\n",
    "ax1.hist([df_unprotected[\"Total person's income\"],df_protected[\"Total person's income\"]],color=colors, label=['unprotected', 'protected'], log=True)\n",
    "ax1.set_ylabel(\"Count (log scale)\")\n",
    "plt.tight_layout()\n",
    "plt.legend(loc='upper right')\n",
    "plt.show()"
   ]
  },
  {
   "cell_type": "code",
   "execution_count": 11,
   "id": "ac394ca7",
   "metadata": {},
   "outputs": [
    {
     "data": {
      "image/png": "[encoded data removed]",
      "text/plain": [
       "<Figure size 432x288 with 1 Axes>"
      ]
     },
     "metadata": {
      "needs_background": "light"
     },
     "output_type": "display_data"
    }
   ],
   "source": [
    "df_protected = df_filtered.loc[df_filtered[\"Sex\"] == \"Woman\"]\n",
    "df_unprotected = df_filtered.loc[df_filtered[\"Sex\"] == \"Man\"]\n",
    "\n",
    "# # Convert to numpy arrays\n",
    "income_unprotected = df_unprotected[\"Total person's income\"]\n",
    "income_protected = df_protected[\"Total person's income\"]\n",
    "\n",
    "fig, ax = plt.subplots()\n",
    "sns.kdeplot(data=income_unprotected.squeeze(), ax=ax, color='red', fill=True, label='income_unprotected')\n",
    "sns.kdeplot(data=income_protected.squeeze(), ax=ax, color='blue', fill=True, label='income_protected')\n",
    "ax.legend(bbox_to_anchor=(1.02, 1.02), loc='upper left')\n",
    "plt.tight_layout()\n",
    "plt.show()"
   ]
  },
  {
   "cell_type": "code",
   "execution_count": 10,
   "id": "0cdffe82",
   "metadata": {},
   "outputs": [
    {
     "data": {
      "text/html": [
       "<div>\n",
       "<style scoped>\n",
       "    .dataframe tbody tr th:only-of-type {\n",
       "        vertical-align: middle;\n",
       "    }\n",
       "\n",
       "    .dataframe tbody tr th {\n",
       "        vertical-align: top;\n",
       "    }\n",
       "\n",
       "    .dataframe thead th {\n",
       "        text-align: right;\n",
       "    }\n",
       "</style>\n",
       "<table border=\"1\" class=\"dataframe\">\n",
       "  <thead>\n",
       "    <tr style=\"text-align: right;\">\n",
       "      <th></th>\n",
       "      <th>subpopulation</th>\n",
       "      <th>value_population</th>\n",
       "      <th>treatment</th>\n",
       "      <th>value</th>\n",
       "      <th>outcome</th>\n",
       "      <th>ate</th>\n",
       "      <th>ate_p</th>\n",
       "      <th>iscore</th>\n",
       "      <th>size</th>\n",
       "      <th>size_protected</th>\n",
       "      <th>size_treated</th>\n",
       "      <th>support</th>\n",
       "      <th>ni_score</th>\n",
       "      <th>p_v1</th>\n",
       "      <th>p_v2</th>\n",
       "      <th>utility</th>\n",
       "      <th>std</th>\n",
       "      <th>kl</th>\n",
       "      <th>emd</th>\n",
       "      <th>diff_means</th>\n",
       "    </tr>\n",
       "  </thead>\n",
       "  <tbody>\n",
       "    <tr>\n",
       "      <th>232</th>\n",
       "      <td>Age</td>\n",
       "      <td>0-16</td>\n",
       "      <td>When last worked</td>\n",
       "      <td>Within past year</td>\n",
       "      <td>Total person's income</td>\n",
       "      <td>1926.8311</td>\n",
       "      <td>2061.743017</td>\n",
       "      <td>134.911916</td>\n",
       "      <td>2253</td>\n",
       "      <td>1134</td>\n",
       "      <td>2130</td>\n",
       "      <td>0.005974</td>\n",
       "      <td>0.012069</td>\n",
       "      <td>[0.00036334]</td>\n",
       "      <td>[0.00807071]</td>\n",
       "      <td>0.000072</td>\n",
       "      <td>5832.732661</td>\n",
       "      <td>4212617.557</td>\n",
       "      <td>211.763668</td>\n",
       "      <td>195.925926</td>\n",
       "    </tr>\n",
       "    <tr>\n",
       "      <th>233</th>\n",
       "      <td>Age</td>\n",
       "      <td>0-16</td>\n",
       "      <td>When last worked</td>\n",
       "      <td>1-5 yrs ago</td>\n",
       "      <td>Total person's income</td>\n",
       "      <td>-1926.8311</td>\n",
       "      <td>-2061.743017</td>\n",
       "      <td>134.911916</td>\n",
       "      <td>2253</td>\n",
       "      <td>1134</td>\n",
       "      <td>123</td>\n",
       "      <td>0.005974</td>\n",
       "      <td>0.012069</td>\n",
       "      <td>[0.00036334]</td>\n",
       "      <td>[0.00807071]</td>\n",
       "      <td>0.000072</td>\n",
       "      <td>5832.732661</td>\n",
       "      <td>4212617.557</td>\n",
       "      <td>211.763668</td>\n",
       "      <td>195.925926</td>\n",
       "    </tr>\n",
       "  </tbody>\n",
       "</table>\n",
       "</div>"
      ],
      "text/plain": [
       "    subpopulation value_population         treatment             value  \\\n",
       "232           Age             0-16  When last worked  Within past year   \n",
       "233           Age             0-16  When last worked       1-5 yrs ago   \n",
       "\n",
       "                   outcome        ate        ate_p      iscore  size  \\\n",
       "232  Total person's income  1926.8311  2061.743017  134.911916  2253   \n",
       "233  Total person's income -1926.8311 -2061.743017  134.911916  2253   \n",
       "\n",
       "     size_protected  size_treated   support  ni_score          p_v1  \\\n",
       "232            1134          2130  0.005974  0.012069  [0.00036334]   \n",
       "233            1134           123  0.005974  0.012069  [0.00036334]   \n",
       "\n",
       "             p_v2   utility          std           kl         emd  diff_means  \n",
       "232  [0.00807071]  0.000072  5832.732661  4212617.557  211.763668  195.925926  \n",
       "233  [0.00807071]  0.000072  5832.732661  4212617.557  211.763668  195.925926  "
      ]
     },
     "execution_count": 10,
     "metadata": {},
     "output_type": "execute_result"
    }
   ],
   "source": [
    "df_facts.query('utility == utility.min()')"
   ]
  },
  {
   "cell_type": "code",
   "execution_count": 12,
   "id": "c0730372",
   "metadata": {},
   "outputs": [
    {
     "data": {
      "image/png": "[encoded data removed]",
      "text/plain": [
       "<Figure size 432x288 with 1 Axes>"
      ]
     },
     "metadata": {
      "needs_background": "light"
     },
     "output_type": "display_data"
    }
   ],
   "source": [
    "fig, ax1 = plt.subplots()\n",
    "df_filtered = df_data.loc[df_data[\"Age\"]==\"0-16\"]\n",
    "df_protected = df_filtered.loc[df_filtered[\"Sex\"]==\"Woman\"]\n",
    "df_unprotected = df_filtered.loc[df_filtered[\"Sex\"]==\"Man\"]\n",
    "ax1.hist([df_unprotected[\"Total person's income\"],df_protected[\"Total person's income\"]],color=colors, label=['unprotected', 'protected'], log=True)\n",
    "ax1.set_ylabel(\"Count (log scale)\")\n",
    "plt.tight_layout()\n",
    "plt.legend(loc='upper right')\n",
    "plt.show()"
   ]
  },
  {
   "cell_type": "code",
   "execution_count": 13,
   "id": "32d56723",
   "metadata": {},
   "outputs": [
    {
     "data": {
      "image/png": "[encoded data removed]",
      "text/plain": [
       "<Figure size 432x288 with 1 Axes>"
      ]
     },
     "metadata": {
      "needs_background": "light"
     },
     "output_type": "display_data"
    }
   ],
   "source": [
    "df_protected = df_filtered.loc[df_filtered[\"Sex\"] == \"Woman\"]\n",
    "df_unprotected = df_filtered.loc[df_filtered[\"Sex\"] == \"Man\"]\n",
    "\n",
    "# # Convert to numpy arrays\n",
    "income_unprotected = df_unprotected[\"Total person's income\"]\n",
    "income_protected = df_protected[\"Total person's income\"]\n",
    "\n",
    "fig, ax = plt.subplots()\n",
    "sns.kdeplot(data=income_unprotected.squeeze(), ax=ax, color='red', fill=True, label='income_unprotected')\n",
    "sns.kdeplot(data=income_protected.squeeze(), ax=ax, color='blue', fill=True, label='income_protected')\n",
    "ax.legend(bbox_to_anchor=(1.02, 1.02), loc='upper left')\n",
    "plt.tight_layout()\n",
    "plt.show()"
   ]
  },
  {
   "cell_type": "markdown",
   "id": "35a13e64",
   "metadata": {},
   "source": [
    "# by kl"
   ]
  },
  {
   "cell_type": "code",
   "execution_count": 14,
   "id": "c99603e6",
   "metadata": {},
   "outputs": [
    {
     "data": {
      "text/html": [
       "<div>\n",
       "<style scoped>\n",
       "    .dataframe tbody tr th:only-of-type {\n",
       "        vertical-align: middle;\n",
       "    }\n",
       "\n",
       "    .dataframe tbody tr th {\n",
       "        vertical-align: top;\n",
       "    }\n",
       "\n",
       "    .dataframe thead th {\n",
       "        text-align: right;\n",
       "    }\n",
       "</style>\n",
       "<table border=\"1\" class=\"dataframe\">\n",
       "  <thead>\n",
       "    <tr style=\"text-align: right;\">\n",
       "      <th></th>\n",
       "      <th>subpopulation</th>\n",
       "      <th>value_population</th>\n",
       "      <th>treatment</th>\n",
       "      <th>value</th>\n",
       "      <th>outcome</th>\n",
       "      <th>ate</th>\n",
       "      <th>ate_p</th>\n",
       "      <th>iscore</th>\n",
       "      <th>size</th>\n",
       "      <th>size_protected</th>\n",
       "      <th>size_treated</th>\n",
       "      <th>support</th>\n",
       "      <th>ni_score</th>\n",
       "      <th>p_v1</th>\n",
       "      <th>p_v2</th>\n",
       "      <th>utility</th>\n",
       "      <th>std</th>\n",
       "      <th>kl</th>\n",
       "      <th>emd</th>\n",
       "      <th>diff_means</th>\n",
       "    </tr>\n",
       "  </thead>\n",
       "  <tbody>\n",
       "    <tr>\n",
       "      <th>982</th>\n",
       "      <td>When last worked</td>\n",
       "      <td>Within past year</td>\n",
       "      <td>Educational attainment</td>\n",
       "      <td>Bachelor's degree</td>\n",
       "      <td>Total person's income</td>\n",
       "      <td>22775.658630</td>\n",
       "      <td>15979.790370</td>\n",
       "      <td>6795.868253</td>\n",
       "      <td>333115</td>\n",
       "      <td>159970</td>\n",
       "      <td>73198</td>\n",
       "      <td>0.883243</td>\n",
       "      <td>0.457533</td>\n",
       "      <td>[0.]</td>\n",
       "      <td>[0.]</td>\n",
       "      <td>0.404113</td>\n",
       "      <td>65049.78278</td>\n",
       "      <td>1.079608e+10</td>\n",
       "      <td>11295.13378</td>\n",
       "      <td>11292.69194</td>\n",
       "    </tr>\n",
       "    <tr>\n",
       "      <th>983</th>\n",
       "      <td>When last worked</td>\n",
       "      <td>Within past year</td>\n",
       "      <td>Educational attainment</td>\n",
       "      <td>Master's degree</td>\n",
       "      <td>Total person's income</td>\n",
       "      <td>38836.546700</td>\n",
       "      <td>30786.465490</td>\n",
       "      <td>8050.081213</td>\n",
       "      <td>333115</td>\n",
       "      <td>159970</td>\n",
       "      <td>31561</td>\n",
       "      <td>0.883243</td>\n",
       "      <td>0.515437</td>\n",
       "      <td>[0.]</td>\n",
       "      <td>[0.]</td>\n",
       "      <td>0.455256</td>\n",
       "      <td>65049.78278</td>\n",
       "      <td>1.079608e+10</td>\n",
       "      <td>11295.13378</td>\n",
       "      <td>11292.69194</td>\n",
       "    </tr>\n",
       "    <tr>\n",
       "      <th>984</th>\n",
       "      <td>When last worked</td>\n",
       "      <td>Within past year</td>\n",
       "      <td>Educational attainment</td>\n",
       "      <td>No Degree</td>\n",
       "      <td>Total person's income</td>\n",
       "      <td>-40779.074810</td>\n",
       "      <td>-31624.812410</td>\n",
       "      <td>9154.262400</td>\n",
       "      <td>333115</td>\n",
       "      <td>159970</td>\n",
       "      <td>184551</td>\n",
       "      <td>0.883243</td>\n",
       "      <td>0.561275</td>\n",
       "      <td>[0.]</td>\n",
       "      <td>[0.]</td>\n",
       "      <td>0.495743</td>\n",
       "      <td>65049.78278</td>\n",
       "      <td>1.079608e+10</td>\n",
       "      <td>11295.13378</td>\n",
       "      <td>11292.69194</td>\n",
       "    </tr>\n",
       "    <tr>\n",
       "      <th>985</th>\n",
       "      <td>When last worked</td>\n",
       "      <td>Within past year</td>\n",
       "      <td>Educational attainment</td>\n",
       "      <td>Associate's degree</td>\n",
       "      <td>Total person's income</td>\n",
       "      <td>-6798.782893</td>\n",
       "      <td>-3835.429752</td>\n",
       "      <td>2963.353142</td>\n",
       "      <td>333115</td>\n",
       "      <td>159970</td>\n",
       "      <td>30294</td>\n",
       "      <td>0.883243</td>\n",
       "      <td>0.234099</td>\n",
       "      <td>[2.03299939e-67]</td>\n",
       "      <td>[2.66943107e-21]</td>\n",
       "      <td>0.206766</td>\n",
       "      <td>65049.78278</td>\n",
       "      <td>1.079608e+10</td>\n",
       "      <td>11295.13378</td>\n",
       "      <td>11292.69194</td>\n",
       "    </tr>\n",
       "    <tr>\n",
       "      <th>986</th>\n",
       "      <td>When last worked</td>\n",
       "      <td>Within past year</td>\n",
       "      <td>Educational attainment</td>\n",
       "      <td>Doctorate degree</td>\n",
       "      <td>Total person's income</td>\n",
       "      <td>64946.352690</td>\n",
       "      <td>53097.407820</td>\n",
       "      <td>11848.944880</td>\n",
       "      <td>333115</td>\n",
       "      <td>159970</td>\n",
       "      <td>5428</td>\n",
       "      <td>0.883243</td>\n",
       "      <td>0.655756</td>\n",
       "      <td>[0.]</td>\n",
       "      <td>[0.]</td>\n",
       "      <td>0.579192</td>\n",
       "      <td>65049.78278</td>\n",
       "      <td>1.079608e+10</td>\n",
       "      <td>11295.13378</td>\n",
       "      <td>11292.69194</td>\n",
       "    </tr>\n",
       "    <tr>\n",
       "      <th>987</th>\n",
       "      <td>When last worked</td>\n",
       "      <td>Within past year</td>\n",
       "      <td>Educational attainment</td>\n",
       "      <td>Professional Degree</td>\n",
       "      <td>Total person's income</td>\n",
       "      <td>99716.836130</td>\n",
       "      <td>74961.319730</td>\n",
       "      <td>24755.516410</td>\n",
       "      <td>333115</td>\n",
       "      <td>159970</td>\n",
       "      <td>8083</td>\n",
       "      <td>0.883243</td>\n",
       "      <td>0.892256</td>\n",
       "      <td>[0.]</td>\n",
       "      <td>[0.]</td>\n",
       "      <td>0.788079</td>\n",
       "      <td>65049.78278</td>\n",
       "      <td>1.079608e+10</td>\n",
       "      <td>11295.13378</td>\n",
       "      <td>11292.69194</td>\n",
       "    </tr>\n",
       "  </tbody>\n",
       "</table>\n",
       "</div>"
      ],
      "text/plain": [
       "        subpopulation  value_population               treatment  \\\n",
       "982  When last worked  Within past year  Educational attainment   \n",
       "983  When last worked  Within past year  Educational attainment   \n",
       "984  When last worked  Within past year  Educational attainment   \n",
       "985  When last worked  Within past year  Educational attainment   \n",
       "986  When last worked  Within past year  Educational attainment   \n",
       "987  When last worked  Within past year  Educational attainment   \n",
       "\n",
       "                   value                outcome           ate         ate_p  \\\n",
       "982    Bachelor's degree  Total person's income  22775.658630  15979.790370   \n",
       "983      Master's degree  Total person's income  38836.546700  30786.465490   \n",
       "984            No Degree  Total person's income -40779.074810 -31624.812410   \n",
       "985   Associate's degree  Total person's income  -6798.782893  -3835.429752   \n",
       "986     Doctorate degree  Total person's income  64946.352690  53097.407820   \n",
       "987  Professional Degree  Total person's income  99716.836130  74961.319730   \n",
       "\n",
       "           iscore    size  size_protected  size_treated   support  ni_score  \\\n",
       "982   6795.868253  333115          159970         73198  0.883243  0.457533   \n",
       "983   8050.081213  333115          159970         31561  0.883243  0.515437   \n",
       "984   9154.262400  333115          159970        184551  0.883243  0.561275   \n",
       "985   2963.353142  333115          159970         30294  0.883243  0.234099   \n",
       "986  11848.944880  333115          159970          5428  0.883243  0.655756   \n",
       "987  24755.516410  333115          159970          8083  0.883243  0.892256   \n",
       "\n",
       "                 p_v1              p_v2   utility          std            kl  \\\n",
       "982              [0.]              [0.]  0.404113  65049.78278  1.079608e+10   \n",
       "983              [0.]              [0.]  0.455256  65049.78278  1.079608e+10   \n",
       "984              [0.]              [0.]  0.495743  65049.78278  1.079608e+10   \n",
       "985  [2.03299939e-67]  [2.66943107e-21]  0.206766  65049.78278  1.079608e+10   \n",
       "986              [0.]              [0.]  0.579192  65049.78278  1.079608e+10   \n",
       "987              [0.]              [0.]  0.788079  65049.78278  1.079608e+10   \n",
       "\n",
       "             emd   diff_means  \n",
       "982  11295.13378  11292.69194  \n",
       "983  11295.13378  11292.69194  \n",
       "984  11295.13378  11292.69194  \n",
       "985  11295.13378  11292.69194  \n",
       "986  11295.13378  11292.69194  \n",
       "987  11295.13378  11292.69194  "
      ]
     },
     "execution_count": 14,
     "metadata": {},
     "output_type": "execute_result"
    }
   ],
   "source": [
    "df_facts.query('kl == kl.max()')"
   ]
  },
  {
   "cell_type": "code",
   "execution_count": 15,
   "id": "4c20d6b1",
   "metadata": {},
   "outputs": [
    {
     "data": {
      "image/png": "[encoded data removed]",
      "text/plain": [
       "<Figure size 432x288 with 1 Axes>"
      ]
     },
     "metadata": {
      "needs_background": "light"
     },
     "output_type": "display_data"
    }
   ],
   "source": [
    "fig, ax1 = plt.subplots()\n",
    "df_filtered = df_data.loc[df_data[\"When last worked\"]==\"Within past year\"]\n",
    "df_protected = df_filtered.loc[df_filtered[\"Sex\"]==\"Woman\"]\n",
    "df_unprotected = df_filtered.loc[df_filtered[\"Sex\"]==\"Man\"]\n",
    "\n",
    "ax1.hist([df_unprotected[\"Total person's income\"],df_protected[\"Total person's income\"]],color=colors, label=['unprotected', 'protected'], log=True)\n",
    "ax1.set_ylabel(\"Count (log scale)\")\n",
    "plt.tight_layout()\n",
    "plt.legend(loc='upper right')\n",
    "plt.show()"
   ]
  },
  {
   "cell_type": "code",
   "execution_count": 16,
   "id": "b2a6d477",
   "metadata": {},
   "outputs": [
    {
     "data": {
      "image/png": "[encoded data removed]",
      "text/plain": [
       "<Figure size 432x288 with 1 Axes>"
      ]
     },
     "metadata": {
      "needs_background": "light"
     },
     "output_type": "display_data"
    }
   ],
   "source": [
    "df_protected = df_filtered.loc[df_filtered[\"Sex\"] == \"Woman\"]\n",
    "df_unprotected = df_filtered.loc[df_filtered[\"Sex\"] == \"Man\"]\n",
    "\n",
    "# # Convert to numpy arrays\n",
    "income_unprotected = df_unprotected[\"Total person's income\"]\n",
    "income_protected = df_protected[\"Total person's income\"]\n",
    "\n",
    "fig, ax = plt.subplots()\n",
    "sns.kdeplot(data=income_unprotected.squeeze(), ax=ax, color='red', fill=True, label='income_unprotected')\n",
    "sns.kdeplot(data=income_protected.squeeze(), ax=ax, color='blue', fill=True, label='income_protected')\n",
    "ax.legend(bbox_to_anchor=(1.02, 1.02), loc='upper left')\n",
    "plt.tight_layout()\n",
    "plt.show()"
   ]
  },
  {
   "cell_type": "code",
   "execution_count": 15,
   "id": "dd77ba64",
   "metadata": {},
   "outputs": [
    {
     "data": {
      "text/html": [
       "<div>\n",
       "<style scoped>\n",
       "    .dataframe tbody tr th:only-of-type {\n",
       "        vertical-align: middle;\n",
       "    }\n",
       "\n",
       "    .dataframe tbody tr th {\n",
       "        vertical-align: top;\n",
       "    }\n",
       "\n",
       "    .dataframe thead th {\n",
       "        text-align: right;\n",
       "    }\n",
       "</style>\n",
       "<table border=\"1\" class=\"dataframe\">\n",
       "  <thead>\n",
       "    <tr style=\"text-align: right;\">\n",
       "      <th></th>\n",
       "      <th>subpopulation</th>\n",
       "      <th>value_population</th>\n",
       "      <th>treatment</th>\n",
       "      <th>value</th>\n",
       "      <th>outcome</th>\n",
       "      <th>ate</th>\n",
       "      <th>ate_p</th>\n",
       "      <th>iscore</th>\n",
       "      <th>size</th>\n",
       "      <th>size_protected</th>\n",
       "      <th>size_treated</th>\n",
       "      <th>support</th>\n",
       "      <th>ni_score</th>\n",
       "      <th>p_v1</th>\n",
       "      <th>p_v2</th>\n",
       "      <th>utility</th>\n",
       "      <th>std</th>\n",
       "      <th>kl</th>\n",
       "      <th>emd</th>\n",
       "      <th>diff_means</th>\n",
       "    </tr>\n",
       "  </thead>\n",
       "  <tbody>\n",
       "    <tr>\n",
       "      <th>232</th>\n",
       "      <td>Age</td>\n",
       "      <td>0-16</td>\n",
       "      <td>When last worked</td>\n",
       "      <td>Within past year</td>\n",
       "      <td>Total person's income</td>\n",
       "      <td>1926.8311</td>\n",
       "      <td>2061.743017</td>\n",
       "      <td>134.911916</td>\n",
       "      <td>2253</td>\n",
       "      <td>1134</td>\n",
       "      <td>2130</td>\n",
       "      <td>0.005974</td>\n",
       "      <td>0.012069</td>\n",
       "      <td>[0.00036334]</td>\n",
       "      <td>[0.00807071]</td>\n",
       "      <td>0.000072</td>\n",
       "      <td>5832.732661</td>\n",
       "      <td>4212617.557</td>\n",
       "      <td>211.763668</td>\n",
       "      <td>195.925926</td>\n",
       "    </tr>\n",
       "    <tr>\n",
       "      <th>233</th>\n",
       "      <td>Age</td>\n",
       "      <td>0-16</td>\n",
       "      <td>When last worked</td>\n",
       "      <td>1-5 yrs ago</td>\n",
       "      <td>Total person's income</td>\n",
       "      <td>-1926.8311</td>\n",
       "      <td>-2061.743017</td>\n",
       "      <td>134.911916</td>\n",
       "      <td>2253</td>\n",
       "      <td>1134</td>\n",
       "      <td>123</td>\n",
       "      <td>0.005974</td>\n",
       "      <td>0.012069</td>\n",
       "      <td>[0.00036334]</td>\n",
       "      <td>[0.00807071]</td>\n",
       "      <td>0.000072</td>\n",
       "      <td>5832.732661</td>\n",
       "      <td>4212617.557</td>\n",
       "      <td>211.763668</td>\n",
       "      <td>195.925926</td>\n",
       "    </tr>\n",
       "  </tbody>\n",
       "</table>\n",
       "</div>"
      ],
      "text/plain": [
       "    subpopulation value_population         treatment             value  \\\n",
       "232           Age             0-16  When last worked  Within past year   \n",
       "233           Age             0-16  When last worked       1-5 yrs ago   \n",
       "\n",
       "                   outcome        ate        ate_p      iscore  size  \\\n",
       "232  Total person's income  1926.8311  2061.743017  134.911916  2253   \n",
       "233  Total person's income -1926.8311 -2061.743017  134.911916  2253   \n",
       "\n",
       "     size_protected  size_treated   support  ni_score          p_v1  \\\n",
       "232            1134          2130  0.005974  0.012069  [0.00036334]   \n",
       "233            1134           123  0.005974  0.012069  [0.00036334]   \n",
       "\n",
       "             p_v2   utility          std           kl         emd  diff_means  \n",
       "232  [0.00807071]  0.000072  5832.732661  4212617.557  211.763668  195.925926  \n",
       "233  [0.00807071]  0.000072  5832.732661  4212617.557  211.763668  195.925926  "
      ]
     },
     "execution_count": 15,
     "metadata": {},
     "output_type": "execute_result"
    }
   ],
   "source": [
    "df_facts.query('kl == kl.min()')"
   ]
  },
  {
   "cell_type": "code",
   "execution_count": 17,
   "id": "2625f223",
   "metadata": {},
   "outputs": [
    {
     "data": {
      "image/png": "[encoded data removed]",
      "text/plain": [
       "<Figure size 432x288 with 1 Axes>"
      ]
     },
     "metadata": {
      "needs_background": "light"
     },
     "output_type": "display_data"
    }
   ],
   "source": [
    "fig, ax1 = plt.subplots()\n",
    "df_filtered = df_data.loc[df_data[\"Age\"]==\"0-16\"]\n",
    "df_protected = df_filtered.loc[df_filtered[\"Sex\"]==\"Woman\"]\n",
    "df_unprotected = df_filtered.loc[df_filtered[\"Sex\"]==\"Man\"]\n",
    "\n",
    "ax1.hist([df_unprotected[\"Total person's income\"],df_protected[\"Total person's income\"]],color=colors, label=['unprotected', 'protected'], log=True)\n",
    "ax1.set_ylabel(\"Count (log scale)\")\n",
    "plt.tight_layout()\n",
    "plt.legend(loc='upper right')\n",
    "plt.show()"
   ]
  },
  {
   "cell_type": "code",
   "execution_count": 18,
   "id": "db75eba3",
   "metadata": {},
   "outputs": [
    {
     "data": {
      "image/png": "[encoded data removed]",
      "text/plain": [
       "<Figure size 432x288 with 1 Axes>"
      ]
     },
     "metadata": {
      "needs_background": "light"
     },
     "output_type": "display_data"
    }
   ],
   "source": [
    "df_protected = df_filtered.loc[df_filtered[\"Sex\"] == \"Woman\"]\n",
    "df_unprotected = df_filtered.loc[df_filtered[\"Sex\"] == \"Man\"]\n",
    "\n",
    "# # Convert to numpy arrays\n",
    "income_unprotected = df_unprotected[\"Total person's income\"]\n",
    "income_protected = df_protected[\"Total person's income\"]\n",
    "\n",
    "fig, ax = plt.subplots()\n",
    "sns.kdeplot(data=income_unprotected.squeeze(), ax=ax, color='red', fill=True, label='income_unprotected')\n",
    "sns.kdeplot(data=income_protected.squeeze(), ax=ax, color='blue', fill=True, label='income_protected')\n",
    "ax.legend(bbox_to_anchor=(1.02, 1.02), loc='upper left')\n",
    "plt.tight_layout()\n",
    "plt.show()"
   ]
  },
  {
   "cell_type": "markdown",
   "id": "da5aff6f",
   "metadata": {},
   "source": [
    "# by emd"
   ]
  },
  {
   "cell_type": "code",
   "execution_count": 18,
   "id": "1f48c02a",
   "metadata": {},
   "outputs": [
    {
     "data": {
      "text/html": [
       "<div>\n",
       "<style scoped>\n",
       "    .dataframe tbody tr th:only-of-type {\n",
       "        vertical-align: middle;\n",
       "    }\n",
       "\n",
       "    .dataframe tbody tr th {\n",
       "        vertical-align: top;\n",
       "    }\n",
       "\n",
       "    .dataframe thead th {\n",
       "        text-align: right;\n",
       "    }\n",
       "</style>\n",
       "<table border=\"1\" class=\"dataframe\">\n",
       "  <thead>\n",
       "    <tr style=\"text-align: right;\">\n",
       "      <th></th>\n",
       "      <th>subpopulation</th>\n",
       "      <th>value_population</th>\n",
       "      <th>treatment</th>\n",
       "      <th>value</th>\n",
       "      <th>outcome</th>\n",
       "      <th>ate</th>\n",
       "      <th>ate_p</th>\n",
       "      <th>iscore</th>\n",
       "      <th>size</th>\n",
       "      <th>size_protected</th>\n",
       "      <th>size_treated</th>\n",
       "      <th>support</th>\n",
       "      <th>ni_score</th>\n",
       "      <th>p_v1</th>\n",
       "      <th>p_v2</th>\n",
       "      <th>utility</th>\n",
       "      <th>std</th>\n",
       "      <th>kl</th>\n",
       "      <th>emd</th>\n",
       "      <th>diff_means</th>\n",
       "    </tr>\n",
       "  </thead>\n",
       "  <tbody>\n",
       "    <tr>\n",
       "      <th>596</th>\n",
       "      <td>Educational attainment</td>\n",
       "      <td>Professional Degree</td>\n",
       "      <td>Age</td>\n",
       "      <td>25-34</td>\n",
       "      <td>Total person's income</td>\n",
       "      <td>-72727.200460</td>\n",
       "      <td>-44758.58781</td>\n",
       "      <td>27968.612650</td>\n",
       "      <td>8925</td>\n",
       "      <td>3920</td>\n",
       "      <td>1430</td>\n",
       "      <td>0.023664</td>\n",
       "      <td>0.919313</td>\n",
       "      <td>[1.20383575e-77]</td>\n",
       "      <td>[2.65514463e-24]</td>\n",
       "      <td>0.021755</td>\n",
       "      <td>136416.6407</td>\n",
       "      <td>624333495.0</td>\n",
       "      <td>36471.29439</td>\n",
       "      <td>36471.29439</td>\n",
       "    </tr>\n",
       "    <tr>\n",
       "      <th>597</th>\n",
       "      <td>Educational attainment</td>\n",
       "      <td>Professional Degree</td>\n",
       "      <td>Age</td>\n",
       "      <td>45-54</td>\n",
       "      <td>Total person's income</td>\n",
       "      <td>33360.121850</td>\n",
       "      <td>27514.33445</td>\n",
       "      <td>5845.787396</td>\n",
       "      <td>8925</td>\n",
       "      <td>3920</td>\n",
       "      <td>1846</td>\n",
       "      <td>0.023664</td>\n",
       "      <td>0.409107</td>\n",
       "      <td>[6.64624943e-21]</td>\n",
       "      <td>[5.96285656e-11]</td>\n",
       "      <td>0.009681</td>\n",
       "      <td>136416.6407</td>\n",
       "      <td>624333495.0</td>\n",
       "      <td>36471.29439</td>\n",
       "      <td>36471.29439</td>\n",
       "    </tr>\n",
       "    <tr>\n",
       "      <th>600</th>\n",
       "      <td>Educational attainment</td>\n",
       "      <td>Professional Degree</td>\n",
       "      <td>Age</td>\n",
       "      <td>35-44</td>\n",
       "      <td>Total person's income</td>\n",
       "      <td>7318.345575</td>\n",
       "      <td>20283.83720</td>\n",
       "      <td>12965.491630</td>\n",
       "      <td>8925</td>\n",
       "      <td>3920</td>\n",
       "      <td>1850</td>\n",
       "      <td>0.023664</td>\n",
       "      <td>0.688668</td>\n",
       "      <td>[0.0399388]</td>\n",
       "      <td>[6.27632387e-07]</td>\n",
       "      <td>0.016297</td>\n",
       "      <td>136416.6407</td>\n",
       "      <td>624333495.0</td>\n",
       "      <td>36471.29439</td>\n",
       "      <td>36471.29439</td>\n",
       "    </tr>\n",
       "    <tr>\n",
       "      <th>601</th>\n",
       "      <td>Educational attainment</td>\n",
       "      <td>Professional Degree</td>\n",
       "      <td>Age</td>\n",
       "      <td>17-24</td>\n",
       "      <td>Total person's income</td>\n",
       "      <td>-130792.807700</td>\n",
       "      <td>-95435.61753</td>\n",
       "      <td>35357.190200</td>\n",
       "      <td>8925</td>\n",
       "      <td>3920</td>\n",
       "      <td>53</td>\n",
       "      <td>0.023664</td>\n",
       "      <td>0.958504</td>\n",
       "      <td>[3.22115336e-12]</td>\n",
       "      <td>[4.67619843e-08]</td>\n",
       "      <td>0.022682</td>\n",
       "      <td>136416.6407</td>\n",
       "      <td>624333495.0</td>\n",
       "      <td>36471.29439</td>\n",
       "      <td>36471.29439</td>\n",
       "    </tr>\n",
       "  </tbody>\n",
       "</table>\n",
       "</div>"
      ],
      "text/plain": [
       "              subpopulation     value_population treatment  value  \\\n",
       "596  Educational attainment  Professional Degree       Age  25-34   \n",
       "597  Educational attainment  Professional Degree       Age  45-54   \n",
       "600  Educational attainment  Professional Degree       Age  35-44   \n",
       "601  Educational attainment  Professional Degree       Age  17-24   \n",
       "\n",
       "                   outcome            ate        ate_p        iscore  size  \\\n",
       "596  Total person's income  -72727.200460 -44758.58781  27968.612650  8925   \n",
       "597  Total person's income   33360.121850  27514.33445   5845.787396  8925   \n",
       "600  Total person's income    7318.345575  20283.83720  12965.491630  8925   \n",
       "601  Total person's income -130792.807700 -95435.61753  35357.190200  8925   \n",
       "\n",
       "     size_protected  size_treated   support  ni_score              p_v1  \\\n",
       "596            3920          1430  0.023664  0.919313  [1.20383575e-77]   \n",
       "597            3920          1846  0.023664  0.409107  [6.64624943e-21]   \n",
       "600            3920          1850  0.023664  0.688668       [0.0399388]   \n",
       "601            3920            53  0.023664  0.958504  [3.22115336e-12]   \n",
       "\n",
       "                 p_v2   utility          std           kl          emd  \\\n",
       "596  [2.65514463e-24]  0.021755  136416.6407  624333495.0  36471.29439   \n",
       "597  [5.96285656e-11]  0.009681  136416.6407  624333495.0  36471.29439   \n",
       "600  [6.27632387e-07]  0.016297  136416.6407  624333495.0  36471.29439   \n",
       "601  [4.67619843e-08]  0.022682  136416.6407  624333495.0  36471.29439   \n",
       "\n",
       "      diff_means  \n",
       "596  36471.29439  \n",
       "597  36471.29439  \n",
       "600  36471.29439  \n",
       "601  36471.29439  "
      ]
     },
     "execution_count": 18,
     "metadata": {},
     "output_type": "execute_result"
    }
   ],
   "source": [
    "df_facts.query('emd == emd.max()')"
   ]
  },
  {
   "cell_type": "code",
   "execution_count": 19,
   "id": "da25d3e6",
   "metadata": {},
   "outputs": [
    {
     "data": {
      "image/png": "[encoded data removed]",
      "text/plain": [
       "<Figure size 432x288 with 1 Axes>"
      ]
     },
     "metadata": {
      "needs_background": "light"
     },
     "output_type": "display_data"
    }
   ],
   "source": [
    "fig, ax1 = plt.subplots()\n",
    "df_filtered = df_data.loc[df_data[\"Educational attainment\"]==\"Professional Degree\"]\n",
    "df_protected = df_filtered.loc[df_filtered[\"Sex\"]==\"Woman\"]\n",
    "df_unprotected = df_filtered.loc[df_filtered[\"Sex\"]==\"Man\"]\n",
    "\n",
    "ax1.hist([df_unprotected[\"Total person's income\"],df_protected[\"Total person's income\"]],color=colors, label=['unprotected', 'protected'], log=True)\n",
    "ax1.set_ylabel(\"Count (log scale)\")\n",
    "plt.tight_layout()\n",
    "plt.legend(loc='upper right')\n",
    "plt.show()"
   ]
  },
  {
   "cell_type": "code",
   "execution_count": 20,
   "id": "26c41036",
   "metadata": {},
   "outputs": [
    {
     "data": {
      "image/png": "[encoded data removed]",
      "text/plain": [
       "<Figure size 432x288 with 1 Axes>"
      ]
     },
     "metadata": {
      "needs_background": "light"
     },
     "output_type": "display_data"
    }
   ],
   "source": [
    "df_protected = df_filtered.loc[df_filtered[\"Sex\"] == \"Woman\"]\n",
    "df_unprotected = df_filtered.loc[df_filtered[\"Sex\"] == \"Man\"]\n",
    "\n",
    "# # Convert to numpy arrays\n",
    "income_unprotected = df_unprotected[\"Total person's income\"]\n",
    "income_protected = df_protected[\"Total person's income\"]\n",
    "\n",
    "fig, ax = plt.subplots()\n",
    "sns.kdeplot(data=income_unprotected.squeeze(), ax=ax, color='red', fill=True, label='income_unprotected')\n",
    "sns.kdeplot(data=income_protected.squeeze(), ax=ax, color='blue', fill=True, label='income_protected')\n",
    "ax.legend(bbox_to_anchor=(1.02, 1.02), loc='upper left')\n",
    "plt.tight_layout()\n",
    "plt.show()"
   ]
  },
  {
   "cell_type": "code",
   "execution_count": 20,
   "id": "afd784ea",
   "metadata": {},
   "outputs": [
    {
     "data": {
      "text/html": [
       "<div>\n",
       "<style scoped>\n",
       "    .dataframe tbody tr th:only-of-type {\n",
       "        vertical-align: middle;\n",
       "    }\n",
       "\n",
       "    .dataframe tbody tr th {\n",
       "        vertical-align: top;\n",
       "    }\n",
       "\n",
       "    .dataframe thead th {\n",
       "        text-align: right;\n",
       "    }\n",
       "</style>\n",
       "<table border=\"1\" class=\"dataframe\">\n",
       "  <thead>\n",
       "    <tr style=\"text-align: right;\">\n",
       "      <th></th>\n",
       "      <th>subpopulation</th>\n",
       "      <th>value_population</th>\n",
       "      <th>treatment</th>\n",
       "      <th>value</th>\n",
       "      <th>outcome</th>\n",
       "      <th>ate</th>\n",
       "      <th>ate_p</th>\n",
       "      <th>iscore</th>\n",
       "      <th>size</th>\n",
       "      <th>size_protected</th>\n",
       "      <th>size_treated</th>\n",
       "      <th>support</th>\n",
       "      <th>ni_score</th>\n",
       "      <th>p_v1</th>\n",
       "      <th>p_v2</th>\n",
       "      <th>utility</th>\n",
       "      <th>std</th>\n",
       "      <th>kl</th>\n",
       "      <th>emd</th>\n",
       "      <th>diff_means</th>\n",
       "    </tr>\n",
       "  </thead>\n",
       "  <tbody>\n",
       "    <tr>\n",
       "      <th>140</th>\n",
       "      <td>Age</td>\n",
       "      <td>0-16</td>\n",
       "      <td>Educational attainment</td>\n",
       "      <td>No Degree</td>\n",
       "      <td>Total person's income</td>\n",
       "      <td>-18701.41014</td>\n",
       "      <td>-27099.80565</td>\n",
       "      <td>8398.395511</td>\n",
       "      <td>2253</td>\n",
       "      <td>1134</td>\n",
       "      <td>2248</td>\n",
       "      <td>0.005974</td>\n",
       "      <td>0.530391</td>\n",
       "      <td>[6.07515391e-13]</td>\n",
       "      <td>[4.73752029e-11]</td>\n",
       "      <td>0.003168</td>\n",
       "      <td>5832.732661</td>\n",
       "      <td>4857257.605</td>\n",
       "      <td>196.261023</td>\n",
       "      <td>120.42328</td>\n",
       "    </tr>\n",
       "    <tr>\n",
       "      <th>141</th>\n",
       "      <td>Age</td>\n",
       "      <td>0-16</td>\n",
       "      <td>Educational attainment</td>\n",
       "      <td>Associate's degree</td>\n",
       "      <td>Total person's income</td>\n",
       "      <td>18701.41014</td>\n",
       "      <td>27099.80565</td>\n",
       "      <td>8398.395511</td>\n",
       "      <td>2253</td>\n",
       "      <td>1134</td>\n",
       "      <td>5</td>\n",
       "      <td>0.005974</td>\n",
       "      <td>0.530391</td>\n",
       "      <td>[6.07515391e-13]</td>\n",
       "      <td>[4.73752029e-11]</td>\n",
       "      <td>0.003168</td>\n",
       "      <td>5832.732661</td>\n",
       "      <td>4857257.605</td>\n",
       "      <td>196.261023</td>\n",
       "      <td>120.42328</td>\n",
       "    </tr>\n",
       "  </tbody>\n",
       "</table>\n",
       "</div>"
      ],
      "text/plain": [
       "    subpopulation value_population               treatment  \\\n",
       "140           Age             0-16  Educational attainment   \n",
       "141           Age             0-16  Educational attainment   \n",
       "\n",
       "                  value                outcome          ate        ate_p  \\\n",
       "140           No Degree  Total person's income -18701.41014 -27099.80565   \n",
       "141  Associate's degree  Total person's income  18701.41014  27099.80565   \n",
       "\n",
       "          iscore  size  size_protected  size_treated   support  ni_score  \\\n",
       "140  8398.395511  2253            1134          2248  0.005974  0.530391   \n",
       "141  8398.395511  2253            1134             5  0.005974  0.530391   \n",
       "\n",
       "                 p_v1              p_v2   utility          std           kl  \\\n",
       "140  [6.07515391e-13]  [4.73752029e-11]  0.003168  5832.732661  4857257.605   \n",
       "141  [6.07515391e-13]  [4.73752029e-11]  0.003168  5832.732661  4857257.605   \n",
       "\n",
       "            emd  diff_means  \n",
       "140  196.261023   120.42328  \n",
       "141  196.261023   120.42328  "
      ]
     },
     "execution_count": 20,
     "metadata": {},
     "output_type": "execute_result"
    }
   ],
   "source": [
    "df_facts.query('emd == emd.min()')"
   ]
  },
  {
   "cell_type": "code",
   "execution_count": 21,
   "id": "cb1d0b62",
   "metadata": {},
   "outputs": [
    {
     "data": {
      "image/png": "[encoded data removed]",
      "text/plain": [
       "<Figure size 432x288 with 1 Axes>"
      ]
     },
     "metadata": {
      "needs_background": "light"
     },
     "output_type": "display_data"
    }
   ],
   "source": [
    "fig, ax1 = plt.subplots()\n",
    "df_filtered = df_data.loc[df_data[\"Age\"]==\"0-16\"]\n",
    "df_protected = df_filtered.loc[df_filtered[\"Sex\"]==\"Woman\"]\n",
    "ax1.hist([df_filtered[\"Total person's income\"],df_protected[\"Total person's income\"]],color=colors, label=['x', 'y'], log=True)\n",
    "ax1.set_ylabel(\"Count (log scale)\")\n",
    "plt.tight_layout()\n",
    "plt.legend(loc='upper right')\n",
    "plt.show()"
   ]
  },
  {
   "cell_type": "code",
   "execution_count": 22,
   "id": "772c4249",
   "metadata": {},
   "outputs": [
    {
     "data": {
      "image/png": "[encoded data removed]",
      "text/plain": [
       "<Figure size 432x288 with 1 Axes>"
      ]
     },
     "metadata": {
      "needs_background": "light"
     },
     "output_type": "display_data"
    }
   ],
   "source": [
    "df_protected = df_filtered.loc[df_filtered[\"Sex\"] == \"Woman\"]\n",
    "df_unprotected = df_filtered.loc[df_filtered[\"Sex\"] == \"Man\"]\n",
    "\n",
    "# # Convert to numpy arrays\n",
    "income_unprotected = df_unprotected[\"Total person's income\"]\n",
    "income_protected = df_protected[\"Total person's income\"]\n",
    "\n",
    "fig, ax = plt.subplots()\n",
    "sns.kdeplot(data=income_unprotected.squeeze(), ax=ax, color='red', fill=True, label='income_unprotected')\n",
    "sns.kdeplot(data=income_protected.squeeze(), ax=ax, color='blue', fill=True, label='income_protected')\n",
    "ax.legend(bbox_to_anchor=(1.02, 1.02), loc='upper left')\n",
    "plt.tight_layout()\n",
    "plt.show()"
   ]
  },
  {
   "cell_type": "markdown",
   "id": "510505c6",
   "metadata": {},
   "source": [
    "# by diff_means"
   ]
  },
  {
   "cell_type": "code",
   "execution_count": 23,
   "id": "7567309d",
   "metadata": {},
   "outputs": [
    {
     "data": {
      "text/html": [
       "<div>\n",
       "<style scoped>\n",
       "    .dataframe tbody tr th:only-of-type {\n",
       "        vertical-align: middle;\n",
       "    }\n",
       "\n",
       "    .dataframe tbody tr th {\n",
       "        vertical-align: top;\n",
       "    }\n",
       "\n",
       "    .dataframe thead th {\n",
       "        text-align: right;\n",
       "    }\n",
       "</style>\n",
       "<table border=\"1\" class=\"dataframe\">\n",
       "  <thead>\n",
       "    <tr style=\"text-align: right;\">\n",
       "      <th></th>\n",
       "      <th>subpopulation</th>\n",
       "      <th>value_population</th>\n",
       "      <th>treatment</th>\n",
       "      <th>value</th>\n",
       "      <th>outcome</th>\n",
       "      <th>ate</th>\n",
       "      <th>ate_p</th>\n",
       "      <th>iscore</th>\n",
       "      <th>size</th>\n",
       "      <th>size_protected</th>\n",
       "      <th>size_treated</th>\n",
       "      <th>support</th>\n",
       "      <th>ni_score</th>\n",
       "      <th>p_v1</th>\n",
       "      <th>p_v2</th>\n",
       "      <th>utility</th>\n",
       "      <th>std</th>\n",
       "      <th>kl</th>\n",
       "      <th>emd</th>\n",
       "      <th>diff_means</th>\n",
       "    </tr>\n",
       "  </thead>\n",
       "  <tbody>\n",
       "    <tr>\n",
       "      <th>596</th>\n",
       "      <td>Educational attainment</td>\n",
       "      <td>Professional Degree</td>\n",
       "      <td>Age</td>\n",
       "      <td>25-34</td>\n",
       "      <td>Total person's income</td>\n",
       "      <td>-72727.200460</td>\n",
       "      <td>-44758.58781</td>\n",
       "      <td>27968.612650</td>\n",
       "      <td>8925</td>\n",
       "      <td>3920</td>\n",
       "      <td>1430</td>\n",
       "      <td>0.023664</td>\n",
       "      <td>0.919313</td>\n",
       "      <td>[1.20383575e-77]</td>\n",
       "      <td>[2.65514463e-24]</td>\n",
       "      <td>0.021755</td>\n",
       "      <td>136416.6407</td>\n",
       "      <td>624333495.0</td>\n",
       "      <td>36471.29439</td>\n",
       "      <td>36471.29439</td>\n",
       "    </tr>\n",
       "    <tr>\n",
       "      <th>597</th>\n",
       "      <td>Educational attainment</td>\n",
       "      <td>Professional Degree</td>\n",
       "      <td>Age</td>\n",
       "      <td>45-54</td>\n",
       "      <td>Total person's income</td>\n",
       "      <td>33360.121850</td>\n",
       "      <td>27514.33445</td>\n",
       "      <td>5845.787396</td>\n",
       "      <td>8925</td>\n",
       "      <td>3920</td>\n",
       "      <td>1846</td>\n",
       "      <td>0.023664</td>\n",
       "      <td>0.409107</td>\n",
       "      <td>[6.64624943e-21]</td>\n",
       "      <td>[5.96285656e-11]</td>\n",
       "      <td>0.009681</td>\n",
       "      <td>136416.6407</td>\n",
       "      <td>624333495.0</td>\n",
       "      <td>36471.29439</td>\n",
       "      <td>36471.29439</td>\n",
       "    </tr>\n",
       "    <tr>\n",
       "      <th>600</th>\n",
       "      <td>Educational attainment</td>\n",
       "      <td>Professional Degree</td>\n",
       "      <td>Age</td>\n",
       "      <td>35-44</td>\n",
       "      <td>Total person's income</td>\n",
       "      <td>7318.345575</td>\n",
       "      <td>20283.83720</td>\n",
       "      <td>12965.491630</td>\n",
       "      <td>8925</td>\n",
       "      <td>3920</td>\n",
       "      <td>1850</td>\n",
       "      <td>0.023664</td>\n",
       "      <td>0.688668</td>\n",
       "      <td>[0.0399388]</td>\n",
       "      <td>[6.27632387e-07]</td>\n",
       "      <td>0.016297</td>\n",
       "      <td>136416.6407</td>\n",
       "      <td>624333495.0</td>\n",
       "      <td>36471.29439</td>\n",
       "      <td>36471.29439</td>\n",
       "    </tr>\n",
       "    <tr>\n",
       "      <th>601</th>\n",
       "      <td>Educational attainment</td>\n",
       "      <td>Professional Degree</td>\n",
       "      <td>Age</td>\n",
       "      <td>17-24</td>\n",
       "      <td>Total person's income</td>\n",
       "      <td>-130792.807700</td>\n",
       "      <td>-95435.61753</td>\n",
       "      <td>35357.190200</td>\n",
       "      <td>8925</td>\n",
       "      <td>3920</td>\n",
       "      <td>53</td>\n",
       "      <td>0.023664</td>\n",
       "      <td>0.958504</td>\n",
       "      <td>[3.22115336e-12]</td>\n",
       "      <td>[4.67619843e-08]</td>\n",
       "      <td>0.022682</td>\n",
       "      <td>136416.6407</td>\n",
       "      <td>624333495.0</td>\n",
       "      <td>36471.29439</td>\n",
       "      <td>36471.29439</td>\n",
       "    </tr>\n",
       "  </tbody>\n",
       "</table>\n",
       "</div>"
      ],
      "text/plain": [
       "              subpopulation     value_population treatment  value  \\\n",
       "596  Educational attainment  Professional Degree       Age  25-34   \n",
       "597  Educational attainment  Professional Degree       Age  45-54   \n",
       "600  Educational attainment  Professional Degree       Age  35-44   \n",
       "601  Educational attainment  Professional Degree       Age  17-24   \n",
       "\n",
       "                   outcome            ate        ate_p        iscore  size  \\\n",
       "596  Total person's income  -72727.200460 -44758.58781  27968.612650  8925   \n",
       "597  Total person's income   33360.121850  27514.33445   5845.787396  8925   \n",
       "600  Total person's income    7318.345575  20283.83720  12965.491630  8925   \n",
       "601  Total person's income -130792.807700 -95435.61753  35357.190200  8925   \n",
       "\n",
       "     size_protected  size_treated   support  ni_score              p_v1  \\\n",
       "596            3920          1430  0.023664  0.919313  [1.20383575e-77]   \n",
       "597            3920          1846  0.023664  0.409107  [6.64624943e-21]   \n",
       "600            3920          1850  0.023664  0.688668       [0.0399388]   \n",
       "601            3920            53  0.023664  0.958504  [3.22115336e-12]   \n",
       "\n",
       "                 p_v2   utility          std           kl          emd  \\\n",
       "596  [2.65514463e-24]  0.021755  136416.6407  624333495.0  36471.29439   \n",
       "597  [5.96285656e-11]  0.009681  136416.6407  624333495.0  36471.29439   \n",
       "600  [6.27632387e-07]  0.016297  136416.6407  624333495.0  36471.29439   \n",
       "601  [4.67619843e-08]  0.022682  136416.6407  624333495.0  36471.29439   \n",
       "\n",
       "      diff_means  \n",
       "596  36471.29439  \n",
       "597  36471.29439  \n",
       "600  36471.29439  \n",
       "601  36471.29439  "
      ]
     },
     "execution_count": 23,
     "metadata": {},
     "output_type": "execute_result"
    }
   ],
   "source": [
    "df_facts.query('diff_means == diff_means.max()')"
   ]
  },
  {
   "cell_type": "code",
   "execution_count": 23,
   "id": "5a66a927",
   "metadata": {},
   "outputs": [
    {
     "data": {
      "image/png": "[encoded data removed]",
      "text/plain": [
       "<Figure size 432x288 with 1 Axes>"
      ]
     },
     "metadata": {
      "needs_background": "light"
     },
     "output_type": "display_data"
    }
   ],
   "source": [
    "fig, ax1 = plt.subplots()\n",
    "df_filtered = df_data.loc[df_data[\"Educational attainment\"]==\"Professional Degree\"]\n",
    "df_protected = df_filtered.loc[df_filtered[\"Sex\"]==\"Woman\"]\n",
    "ax1.hist([df_filtered[\"Total person's income\"],df_protected[\"Total person's income\"]],color=colors, label=['x', 'y'], log=True)\n",
    "ax1.set_ylabel(\"Count (log scale)\")\n",
    "plt.tight_layout()\n",
    "plt.legend(loc='upper right')\n",
    "plt.show()"
   ]
  },
  {
   "cell_type": "code",
   "execution_count": 24,
   "id": "272396a5",
   "metadata": {},
   "outputs": [
    {
     "data": {
      "image/png": "[encoded data removed]",
      "text/plain": [
       "<Figure size 432x288 with 1 Axes>"
      ]
     },
     "metadata": {
      "needs_background": "light"
     },
     "output_type": "display_data"
    }
   ],
   "source": [
    "df_protected = df_filtered.loc[df_filtered[\"Sex\"] == \"Woman\"]\n",
    "df_unprotected = df_filtered.loc[df_filtered[\"Sex\"] == \"Man\"]\n",
    "\n",
    "# # Convert to numpy arrays\n",
    "income_unprotected = df_unprotected[\"Total person's income\"]\n",
    "income_protected = df_protected[\"Total person's income\"]\n",
    "\n",
    "fig, ax = plt.subplots()\n",
    "sns.kdeplot(data=income_unprotected.squeeze(), ax=ax, color='red', fill=True, label='income_unprotected')\n",
    "sns.kdeplot(data=income_protected.squeeze(), ax=ax, color='blue', fill=True, label='income_protected')\n",
    "ax.legend(bbox_to_anchor=(1.02, 1.02), loc='upper left')\n",
    "plt.tight_layout()\n",
    "plt.show()"
   ]
  },
  {
   "cell_type": "code",
   "execution_count": 25,
   "id": "1e9f11e0",
   "metadata": {},
   "outputs": [
    {
     "data": {
      "text/html": [
       "<div>\n",
       "<style scoped>\n",
       "    .dataframe tbody tr th:only-of-type {\n",
       "        vertical-align: middle;\n",
       "    }\n",
       "\n",
       "    .dataframe tbody tr th {\n",
       "        vertical-align: top;\n",
       "    }\n",
       "\n",
       "    .dataframe thead th {\n",
       "        text-align: right;\n",
       "    }\n",
       "</style>\n",
       "<table border=\"1\" class=\"dataframe\">\n",
       "  <thead>\n",
       "    <tr style=\"text-align: right;\">\n",
       "      <th></th>\n",
       "      <th>subpopulation</th>\n",
       "      <th>value_population</th>\n",
       "      <th>treatment</th>\n",
       "      <th>value</th>\n",
       "      <th>outcome</th>\n",
       "      <th>ate</th>\n",
       "      <th>ate_p</th>\n",
       "      <th>iscore</th>\n",
       "      <th>size</th>\n",
       "      <th>size_protected</th>\n",
       "      <th>size_treated</th>\n",
       "      <th>support</th>\n",
       "      <th>ni_score</th>\n",
       "      <th>p_v1</th>\n",
       "      <th>p_v2</th>\n",
       "      <th>utility</th>\n",
       "      <th>std</th>\n",
       "      <th>kl</th>\n",
       "      <th>emd</th>\n",
       "      <th>diff_means</th>\n",
       "    </tr>\n",
       "  </thead>\n",
       "  <tbody>\n",
       "    <tr>\n",
       "      <th>140</th>\n",
       "      <td>Age</td>\n",
       "      <td>0-16</td>\n",
       "      <td>Educational attainment</td>\n",
       "      <td>No Degree</td>\n",
       "      <td>Total person's income</td>\n",
       "      <td>-18701.41014</td>\n",
       "      <td>-27099.80565</td>\n",
       "      <td>8398.395511</td>\n",
       "      <td>2253</td>\n",
       "      <td>1134</td>\n",
       "      <td>2248</td>\n",
       "      <td>0.005974</td>\n",
       "      <td>0.530391</td>\n",
       "      <td>[6.07515391e-13]</td>\n",
       "      <td>[4.73752029e-11]</td>\n",
       "      <td>0.003168</td>\n",
       "      <td>5832.732661</td>\n",
       "      <td>4857257.605</td>\n",
       "      <td>196.261023</td>\n",
       "      <td>120.42328</td>\n",
       "    </tr>\n",
       "    <tr>\n",
       "      <th>141</th>\n",
       "      <td>Age</td>\n",
       "      <td>0-16</td>\n",
       "      <td>Educational attainment</td>\n",
       "      <td>Associate's degree</td>\n",
       "      <td>Total person's income</td>\n",
       "      <td>18701.41014</td>\n",
       "      <td>27099.80565</td>\n",
       "      <td>8398.395511</td>\n",
       "      <td>2253</td>\n",
       "      <td>1134</td>\n",
       "      <td>5</td>\n",
       "      <td>0.005974</td>\n",
       "      <td>0.530391</td>\n",
       "      <td>[6.07515391e-13]</td>\n",
       "      <td>[4.73752029e-11]</td>\n",
       "      <td>0.003168</td>\n",
       "      <td>5832.732661</td>\n",
       "      <td>4857257.605</td>\n",
       "      <td>196.261023</td>\n",
       "      <td>120.42328</td>\n",
       "    </tr>\n",
       "  </tbody>\n",
       "</table>\n",
       "</div>"
      ],
      "text/plain": [
       "    subpopulation value_population               treatment  \\\n",
       "140           Age             0-16  Educational attainment   \n",
       "141           Age             0-16  Educational attainment   \n",
       "\n",
       "                  value                outcome          ate        ate_p  \\\n",
       "140           No Degree  Total person's income -18701.41014 -27099.80565   \n",
       "141  Associate's degree  Total person's income  18701.41014  27099.80565   \n",
       "\n",
       "          iscore  size  size_protected  size_treated   support  ni_score  \\\n",
       "140  8398.395511  2253            1134          2248  0.005974  0.530391   \n",
       "141  8398.395511  2253            1134             5  0.005974  0.530391   \n",
       "\n",
       "                 p_v1              p_v2   utility          std           kl  \\\n",
       "140  [6.07515391e-13]  [4.73752029e-11]  0.003168  5832.732661  4857257.605   \n",
       "141  [6.07515391e-13]  [4.73752029e-11]  0.003168  5832.732661  4857257.605   \n",
       "\n",
       "            emd  diff_means  \n",
       "140  196.261023   120.42328  \n",
       "141  196.261023   120.42328  "
      ]
     },
     "execution_count": 25,
     "metadata": {},
     "output_type": "execute_result"
    }
   ],
   "source": [
    "df_facts.query('diff_means == diff_means.min()')"
   ]
  },
  {
   "cell_type": "code",
   "execution_count": 25,
   "id": "969df37f",
   "metadata": {},
   "outputs": [
    {
     "data": {
      "image/png": "[encoded data removed]",
      "text/plain": [
       "<Figure size 432x288 with 1 Axes>"
      ]
     },
     "metadata": {
      "needs_background": "light"
     },
     "output_type": "display_data"
    }
   ],
   "source": [
    "fig, ax1 = plt.subplots()\n",
    "df_filtered = df_data.loc[df_data[\"Age\"]==\"0-16\"]\n",
    "df_protected = df_filtered.loc[df_filtered[\"Sex\"]==\"Woman\"]\n",
    "ax1.hist([df_filtered[\"Total person's income\"],df_protected[\"Total person's income\"]],color=colors, label=['x', 'y'], log=True)\n",
    "ax1.set_ylabel(\"Count (log scale)\")\n",
    "plt.tight_layout()\n",
    "plt.legend(loc='upper right')\n",
    "plt.show()"
   ]
  },
  {
   "cell_type": "code",
   "execution_count": 26,
   "id": "003afe28",
   "metadata": {},
   "outputs": [
    {
     "data": {
      "image/png": "[encoded data removed]",
      "text/plain": [
       "<Figure size 432x288 with 1 Axes>"
      ]
     },
     "metadata": {
      "needs_background": "light"
     },
     "output_type": "display_data"
    }
   ],
   "source": [
    "df_protected = df_filtered.loc[df_filtered[\"Sex\"] == \"Woman\"]\n",
    "df_unprotected = df_filtered.loc[df_filtered[\"Sex\"] == \"Man\"]\n",
    "\n",
    "# # Convert to numpy arrays\n",
    "income_unprotected = df_unprotected[\"Total person's income\"]\n",
    "income_protected = df_protected[\"Total person's income\"]\n",
    "\n",
    "fig, ax = plt.subplots()\n",
    "sns.kdeplot(data=income_unprotected.squeeze(), ax=ax, color='red', fill=True, label='income_unprotected')\n",
    "sns.kdeplot(data=income_protected.squeeze(), ax=ax, color='blue', fill=True, label='income_protected')\n",
    "ax.legend(bbox_to_anchor=(1.02, 1.02), loc='upper left')\n",
    "plt.tight_layout()\n",
    "plt.show()"
   ]
  },
  {
   "cell_type": "markdown",
   "id": "74afb4e6",
   "metadata": {},
   "source": [
    "# show divexplorer results"
   ]
  },
  {
   "cell_type": "code",
   "execution_count": null,
   "id": "26fb8574",
   "metadata": {},
   "outputs": [],
   "source": [
    "fp_diver = DivergenceExplorer(df)\n",
    "subgroups = fp_diver.get_pattern_divergence(min_support=0.4, quantitative_outcomes=[\"Total person's income\"])\n",
    "subgroups = subgroups.sort_values(by=\"Total person's income_div\", ascending=False, ignore_index=True)\n",
    "d = subgroups.head(10)"
   ]
  },
  {
   "cell_type": "code",
   "execution_count": 29,
   "id": "5d2be5a0",
   "metadata": {},
   "outputs": [
    {
     "data": {
      "text/html": [
       "<div>\n",
       "<style scoped>\n",
       "    .dataframe tbody tr th:only-of-type {\n",
       "        vertical-align: middle;\n",
       "    }\n",
       "\n",
       "    .dataframe tbody tr th {\n",
       "        vertical-align: top;\n",
       "    }\n",
       "\n",
       "    .dataframe thead th {\n",
       "        text-align: right;\n",
       "    }\n",
       "</style>\n",
       "<table border=\"1\" class=\"dataframe\">\n",
       "  <thead>\n",
       "    <tr style=\"text-align: right;\">\n",
       "      <th></th>\n",
       "      <th>support</th>\n",
       "      <th>itemset</th>\n",
       "      <th>Total person's income</th>\n",
       "      <th>Total person's income_protected</th>\n",
       "      <th>Total person's income_div</th>\n",
       "      <th>Total person's income_t</th>\n",
       "      <th>length</th>\n",
       "      <th>support_count</th>\n",
       "    </tr>\n",
       "  </thead>\n",
       "  <tbody>\n",
       "    <tr>\n",
       "      <th>0</th>\n",
       "      <td>0.411396</td>\n",
       "      <td>frozenset({'With a disability=no', 'Marital status=Married', 'Race/Ethnicity=White'})</td>\n",
       "      <td>66372.008127</td>\n",
       "      <td>46556.340573</td>\n",
       "      <td>19815.667554</td>\n",
       "      <td>72.276997</td>\n",
       "      <td>3</td>\n",
       "      <td>155158.0</td>\n",
       "    </tr>\n",
       "    <tr>\n",
       "      <th>1</th>\n",
       "      <td>0.400552</td>\n",
       "      <td>frozenset({'Citizenship status=Born in the U.S.', 'Marital status=Married', 'Race/Ethnicity=White'})</td>\n",
       "      <td>65742.617755</td>\n",
       "      <td>46170.562439</td>\n",
       "      <td>19572.055316</td>\n",
       "      <td>71.286962</td>\n",
       "      <td>3</td>\n",
       "      <td>151068.0</td>\n",
       "    </tr>\n",
       "    <tr>\n",
       "      <th>2</th>\n",
       "      <td>0.447331</td>\n",
       "      <td>frozenset({'Marital status=Married', 'Race/Ethnicity=White'})</td>\n",
       "      <td>64936.699960</td>\n",
       "      <td>45568.526439</td>\n",
       "      <td>19368.173521</td>\n",
       "      <td>74.265483</td>\n",
       "      <td>2</td>\n",
       "      <td>168711.0</td>\n",
       "    </tr>\n",
       "    <tr>\n",
       "      <th>3</th>\n",
       "      <td>0.409349</td>\n",
       "      <td>frozenset({'Citizenship status=Born in the U.S.', 'With a disability=no', 'Marital status=Married'})</td>\n",
       "      <td>66019.586044</td>\n",
       "      <td>47027.766558</td>\n",
       "      <td>18991.819486</td>\n",
       "      <td>70.255957</td>\n",
       "      <td>3</td>\n",
       "      <td>154386.0</td>\n",
       "    </tr>\n",
       "    <tr>\n",
       "      <th>4</th>\n",
       "      <td>0.447021</td>\n",
       "      <td>frozenset({'Citizenship status=Born in the U.S.', 'Marital status=Married'})</td>\n",
       "      <td>64465.594440</td>\n",
       "      <td>45930.776237</td>\n",
       "      <td>18534.818203</td>\n",
       "      <td>72.349176</td>\n",
       "      <td>2</td>\n",
       "      <td>168594.0</td>\n",
       "    </tr>\n",
       "    <tr>\n",
       "      <th>5</th>\n",
       "      <td>0.503569</td>\n",
       "      <td>frozenset({'With a disability=no', 'Marital status=Married'})</td>\n",
       "      <td>64766.663302</td>\n",
       "      <td>46445.512639</td>\n",
       "      <td>18321.150663</td>\n",
       "      <td>74.408043</td>\n",
       "      <td>2</td>\n",
       "      <td>189921.0</td>\n",
       "    </tr>\n",
       "    <tr>\n",
       "      <th>6</th>\n",
       "      <td>0.450680</td>\n",
       "      <td>frozenset({'With a disability=no', 'When last worked=Within past year', 'Marital status=Married'})</td>\n",
       "      <td>69384.723234</td>\n",
       "      <td>51374.194761</td>\n",
       "      <td>18010.528473</td>\n",
       "      <td>67.386326</td>\n",
       "      <td>3</td>\n",
       "      <td>169974.0</td>\n",
       "    </tr>\n",
       "    <tr>\n",
       "      <th>7</th>\n",
       "      <td>0.546276</td>\n",
       "      <td>frozenset({'Marital status=Married'})</td>\n",
       "      <td>63361.433490</td>\n",
       "      <td>45441.723155</td>\n",
       "      <td>17919.710335</td>\n",
       "      <td>76.524644</td>\n",
       "      <td>1</td>\n",
       "      <td>206028.0</td>\n",
       "    </tr>\n",
       "    <tr>\n",
       "      <th>8</th>\n",
       "      <td>0.480233</td>\n",
       "      <td>frozenset({'When last worked=Within past year', 'Marital status=Married'})</td>\n",
       "      <td>68560.288455</td>\n",
       "      <td>50747.686238</td>\n",
       "      <td>17812.602217</td>\n",
       "      <td>69.246983</td>\n",
       "      <td>2</td>\n",
       "      <td>181120.0</td>\n",
       "    </tr>\n",
       "    <tr>\n",
       "      <th>9</th>\n",
       "      <td>0.641387</td>\n",
       "      <td>frozenset({'With a disability=no', 'When last worked=Within past year', 'Race/Ethnicity=White'})</td>\n",
       "      <td>58023.801355</td>\n",
       "      <td>45415.565473</td>\n",
       "      <td>12608.235882</td>\n",
       "      <td>61.980904</td>\n",
       "      <td>3</td>\n",
       "      <td>241899.0</td>\n",
       "    </tr>\n",
       "  </tbody>\n",
       "</table>\n",
       "</div>"
      ],
      "text/plain": [
       "    support  \\\n",
       "0  0.411396   \n",
       "1  0.400552   \n",
       "2  0.447331   \n",
       "3  0.409349   \n",
       "4  0.447021   \n",
       "5  0.503569   \n",
       "6  0.450680   \n",
       "7  0.546276   \n",
       "8  0.480233   \n",
       "9  0.641387   \n",
       "\n",
       "                                                                                                itemset  \\\n",
       "0                 frozenset({'With a disability=no', 'Marital status=Married', 'Race/Ethnicity=White'})   \n",
       "1  frozenset({'Citizenship status=Born in the U.S.', 'Marital status=Married', 'Race/Ethnicity=White'})   \n",
       "2                                         frozenset({'Marital status=Married', 'Race/Ethnicity=White'})   \n",
       "3  frozenset({'Citizenship status=Born in the U.S.', 'With a disability=no', 'Marital status=Married'})   \n",
       "4                          frozenset({'Citizenship status=Born in the U.S.', 'Marital status=Married'})   \n",
       "5                                         frozenset({'With a disability=no', 'Marital status=Married'})   \n",
       "6    frozenset({'With a disability=no', 'When last worked=Within past year', 'Marital status=Married'})   \n",
       "7                                                                 frozenset({'Marital status=Married'})   \n",
       "8                            frozenset({'When last worked=Within past year', 'Marital status=Married'})   \n",
       "9      frozenset({'With a disability=no', 'When last worked=Within past year', 'Race/Ethnicity=White'})   \n",
       "\n",
       "   Total person's income  Total person's income_protected  \\\n",
       "0           66372.008127                     46556.340573   \n",
       "1           65742.617755                     46170.562439   \n",
       "2           64936.699960                     45568.526439   \n",
       "3           66019.586044                     47027.766558   \n",
       "4           64465.594440                     45930.776237   \n",
       "5           64766.663302                     46445.512639   \n",
       "6           69384.723234                     51374.194761   \n",
       "7           63361.433490                     45441.723155   \n",
       "8           68560.288455                     50747.686238   \n",
       "9           58023.801355                     45415.565473   \n",
       "\n",
       "   Total person's income_div  Total person's income_t  length  support_count  \n",
       "0               19815.667554                72.276997       3       155158.0  \n",
       "1               19572.055316                71.286962       3       151068.0  \n",
       "2               19368.173521                74.265483       2       168711.0  \n",
       "3               18991.819486                70.255957       3       154386.0  \n",
       "4               18534.818203                72.349176       2       168594.0  \n",
       "5               18321.150663                74.408043       2       189921.0  \n",
       "6               18010.528473                67.386326       3       169974.0  \n",
       "7               17919.710335                76.524644       1       206028.0  \n",
       "8               17812.602217                69.246983       2       181120.0  \n",
       "9               12608.235882                61.980904       3       241899.0  "
      ]
     },
     "execution_count": 29,
     "metadata": {},
     "output_type": "execute_result"
    }
   ],
   "source": [
    "df_res = pd.read_csv(\"algorithms/divexplorer/divexplorer_res.csv\")\n",
    "df_res"
   ]
  },
  {
   "cell_type": "code",
   "execution_count": null,
   "id": "bfa1caf5",
   "metadata": {},
   "outputs": [],
   "source": []
  }
 ],
 "metadata": {
  "kernelspec": {
   "display_name": "Python 3 (ipykernel)",
   "language": "python",
   "name": "python3"
  },
  "language_info": {
   "codemirror_mode": {
    "name": "ipython",
    "version": 3
   },
   "file_extension": ".py",
   "mimetype": "text/x-python",
   "name": "python",
   "nbconvert_exporter": "python",
   "pygments_lexer": "ipython3",
   "version": "3.9.5"
  }
 },
 "nbformat": 4,
 "nbformat_minor": 5
}
